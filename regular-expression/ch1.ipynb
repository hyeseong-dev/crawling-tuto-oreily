{
 "cells": [
  {
   "cell_type": "markdown",
   "metadata": {},
   "source": [
    "# 문자 클래스 [ ] \n",
    "> [abc]\n",
    "- \\[ \\] 사이의 문자들과 매치 \n",
    "- 'a'는 정규식과 일치하는 문자인 'a'가 있으므로 매치 \n",
    "- 'before'는 정규식과 일치하는 문자인 'b'가 있으므로 매치 \n",
    "- 'dude'는 정규식과 일치하는 문자인 a, b, c 중 어느 하나도 포함하고 있지 않으므로 No 매치\n",
    "- 하이픈을 사용하여 From - To로 표현 가능 \n",
    "  - ex) [a-c] = [abc], [0-5] = [012345]"
   ]
  },
  {
   "cell_type": "markdown",
   "metadata": {},
   "source": [
    "# Dot(.)\n",
    "> a.b\n",
    "- 줄바꿈(\\n)을 제외한 모든 문자와 매치\n",
    "- 'aab'는 가운데 문자 'a'가 모든 문자를 의미하는 '.'과 일치하므로 정규식과 매치.\n",
    "- \"a0b\"는 가운데 문자 '0'이 모든 문자를 의미하는 '.'과 일치하므로 정규식과 매치.\n",
    "- 'abc'는 'a'문자와 'b'문자 사이에 어떤 문자라도 하나는 있어야 하는 이 정규식과 일치하지 않으므로 매치되지 않는다. "
   ]
  },
  {
   "cell_type": "markdown",
   "metadata": {},
   "source": [
    "# 반복(*)\n",
    "> ca*t\n",
    "- 'ct'는 'a'가 0번 반복되어 매치 \n",
    "- 'cat'은 'a'가 0번 이상 반복되어 매치 (1번 반복)\n",
    "- 'caaat'는 'a'가 0번 이상 반복되어 매치 (3번 반복)"
   ]
  },
  {
   "cell_type": "markdown",
   "metadata": {},
   "source": [
    "# 반복(+)\n",
    "> ca+t\n",
    "- 'ct'는 'a'가 0번 반복되어 매치되지 않음\n",
    "- 'cat'는 'a'가 1번 이상 반복되어 매치 (1번 반복)\n",
    "- 'caaat'는 'a'가 1번 이상 반복되어 매치(3번 반복) "
   ]
  },
  {
   "cell_type": "markdown",
   "metadata": {},
   "source": [
    "# 반복 ({m,n},?) \n",
    "> ca{2}t\n",
    "- 'cat'는 'a'가 1번만 반복되어 No 매치\n",
    "- 'caat'는 'a'가 2번 반복되어 매치\n",
    "- 'caaaaat'는 'a'가 5번 반복되어 매치\n",
    "\n",
    "> ca{2,5}t\n",
    "- 'cat'는 'a'가 1번만 반복되어 No 매치\n",
    "- 'caat'는 'a'가 2번 반복되어 매치\n",
    "- 'caaaaat'는 'a'가 5번 반복되어 매치\n",
    "\n",
    "> ab?c\n",
    "- 'abc'는 'b'가 1번 사용되어 매치\n",
    "- 'ac'는 'b'가 0번 사용되어 매치\n",
    "\n",
    "## ? == {0,1}와 같은 표현"
   ]
  },
  {
   "cell_type": "code",
   "execution_count": null,
   "metadata": {},
   "outputs": [],
   "source": []
  },
  {
   "cell_type": "code",
   "execution_count": null,
   "metadata": {},
   "outputs": [],
   "source": []
  },
  {
   "cell_type": "code",
   "execution_count": null,
   "metadata": {},
   "outputs": [],
   "source": []
  },
  {
   "cell_type": "code",
   "execution_count": null,
   "metadata": {},
   "outputs": [],
   "source": []
  },
  {
   "cell_type": "code",
   "execution_count": null,
   "metadata": {},
   "outputs": [],
   "source": []
  },
  {
   "cell_type": "markdown",
   "metadata": {},
   "source": [
    "### match() 메서드"
   ]
  },
  {
   "cell_type": "code",
   "execution_count": 4,
   "metadata": {},
   "outputs": [],
   "source": [
    "import re"
   ]
  },
  {
   "cell_type": "code",
   "execution_count": 12,
   "metadata": {},
   "outputs": [],
   "source": [
    "p = re.compile('[a-z]+')"
   ]
  },
  {
   "cell_type": "code",
   "execution_count": 17,
   "metadata": {},
   "outputs": [
    {
     "name": "stdout",
     "output_type": "stream",
     "text": [
      "None\n"
     ]
    }
   ],
   "source": [
    "m = p.match('3 python')\n",
    "print(m)"
   ]
  },
  {
   "cell_type": "markdown",
   "metadata": {},
   "source": [
    "### search 메서드 \n",
    "match와 차이점은 1)search의 경우 해당 문자객체 안에서 모두 검색하고 중간에 있으면 고거를 보여줍니다.\n"
   ]
  },
  {
   "cell_type": "code",
   "execution_count": 28,
   "metadata": {},
   "outputs": [
    {
     "name": "stdout",
     "output_type": "stream",
     "text": [
      "<re.Match object; span=(2, 8), match='python'>\n"
     ]
    }
   ],
   "source": [
    "# search 메서드 \n",
    "# match와 차이점은 1)search의 경우 해당 문자객체 안에서 모두 검색하고\n",
    "\n",
    "m = p.search('3 python python AsSsbCd각ccㅠ@#!')\n",
    "print(m)"
   ]
  },
  {
   "cell_type": "code",
   "execution_count": null,
   "metadata": {},
   "outputs": [],
   "source": []
  },
  {
   "cell_type": "markdown",
   "metadata": {},
   "source": [
    "### findall \n",
    "일치하는 것을 찾아서 list 객체로 반환해 줍니다. "
   ]
  },
  {
   "cell_type": "code",
   "execution_count": 34,
   "metadata": {},
   "outputs": [
    {
     "data": {
      "text/plain": [
       "['life', 'is', 'too', 'short']"
      ]
     },
     "execution_count": 34,
     "metadata": {},
     "output_type": "execute_result"
    }
   ],
   "source": [
    "import re\n",
    "\n",
    "p = re.compile('[a-z]+') # +가 없으면 a,b,c문자 하나하나씩 확인, 있으면 단어로 matching함.\n",
    "m = p.findall('life is too short')\n",
    "m"
   ]
  },
  {
   "cell_type": "code",
   "execution_count": null,
   "metadata": {},
   "outputs": [],
   "source": []
  },
  {
   "cell_type": "code",
   "execution_count": null,
   "metadata": {},
   "outputs": [],
   "source": []
  },
  {
   "cell_type": "markdown",
   "metadata": {},
   "source": [
    "### finditer\n",
    "\n",
    "match된것을 하나의 객체로 변환 시켜줍니다."
   ]
  },
  {
   "cell_type": "code",
   "execution_count": 35,
   "metadata": {},
   "outputs": [
    {
     "name": "stdout",
     "output_type": "stream",
     "text": [
      "<callable_iterator object at 0x000002333AF46370>\n",
      "<re.Match object; span=(0, 4), match='life'>\n",
      "<re.Match object; span=(5, 7), match='is'>\n",
      "<re.Match object; span=(8, 11), match='too'>\n",
      "<re.Match object; span=(12, 17), match='short'>\n"
     ]
    }
   ],
   "source": [
    "import re\n",
    "p = re.compile('[a-z]+')\n",
    "m = p.finditer('life is too short')\n",
    "print(m)\n",
    "\n",
    "for r in m: print(r)"
   ]
  },
  {
   "cell_type": "markdown",
   "metadata": {},
   "source": [
    "## match 객체의 메서드 \n",
    "\n",
    "> 단! None 객체가 반환되면 아래 메서드 사용시 오류 발생\n",
    "\n",
    "|메서드|목적\n",
    "|---|---|\n",
    "|group()|매치된 문자열을 리턴 |\n",
    "|start()|매치된 문자열의 시작 위치를 리턴 |\n",
    "|end()|매치된 문자열의 끝 위치를 리턴 |\n",
    "|span()|매치된 문자열의 (시작, 끝)에 해당되는 튜플을 리턴 |"
   ]
  },
  {
   "cell_type": "code",
   "execution_count": 43,
   "metadata": {},
   "outputs": [
    {
     "name": "stdout",
     "output_type": "stream",
     "text": [
      "<re.Match object; span=(0, 6), match='python'>\n",
      "python\n",
      "0\n",
      "6\n",
      "(0, 6)\n"
     ]
    }
   ],
   "source": [
    "import re\n",
    "\n",
    "p = re.compile('[a-z]+')\n",
    "m = p.match('python')\n",
    "print(m)\n",
    "print(m.group())\n",
    "print(m.start())\n",
    "print(m.end())\n",
    "print(m.span())"
   ]
  },
  {
   "cell_type": "code",
   "execution_count": 44,
   "metadata": {},
   "outputs": [
    {
     "name": "stdout",
     "output_type": "stream",
     "text": [
      "<re.Match object; span=(0, 6), match='python'>\n",
      "python\n",
      "0\n",
      "6\n",
      "(0, 6)\n"
     ]
    }
   ],
   "source": [
    "import re\n",
    "\n",
    "p = re.compile('[a-z]+')\n",
    "m = p.search('python')\n",
    "print(m)\n",
    "print(m.group())\n",
    "print(m.start())\n",
    "print(m.end())\n",
    "print(m.span())"
   ]
  },
  {
   "cell_type": "code",
   "execution_count": null,
   "metadata": {},
   "outputs": [],
   "source": []
  },
  {
   "cell_type": "markdown",
   "metadata": {},
   "source": [
    "## 컴파일 옵션\n",
    "즉, 컴파일시 뭔가 옵션을 부여함\n",
    "> 1) DOTALL, S   \n",
    "> 2) IGNORECASE, I\n",
    "\n"
   ]
  },
  {
   "cell_type": "markdown",
   "metadata": {},
   "source": [
    "### 1) DOTALL, S  \n",
    "\n",
    "> a.b\n"
   ]
  },
  {
   "cell_type": "code",
   "execution_count": 49,
   "metadata": {},
   "outputs": [
    {
     "name": "stdout",
     "output_type": "stream",
     "text": [
      "None\n"
     ]
    }
   ],
   "source": [
    "import re \n",
    "p = re.compile('a.b')\n",
    "m = p.match('a\\nb') # 줄바꿈 문자로 인해 매칭되지 않고 None객체를 반환함\n",
    "print(m)\n"
   ]
  },
  {
   "cell_type": "code",
   "execution_count": 50,
   "metadata": {},
   "outputs": [
    {
     "name": "stdout",
     "output_type": "stream",
     "text": [
      "<re.Match object; span=(0, 3), match='a\\nb'>\n"
     ]
    }
   ],
   "source": [
    "p = re.compile('a.b', re.DOTALL) # re.DOTALL 옵션으로 인해 줄바꿈 문자가 있어도 매칭됨\n",
    "m = p.match('a\\nb')\n",
    "print(m)"
   ]
  },
  {
   "cell_type": "code",
   "execution_count": 54,
   "metadata": {},
   "outputs": [
    {
     "name": "stdout",
     "output_type": "stream",
     "text": [
      "<re.Match object; span=(0, 3), match='a\\nb'>\n"
     ]
    }
   ],
   "source": [
    "p = re.compile('a.b', re.S) # re.S 옵션으로 인해 줄바꿈 문자가 있어도 매칭됨\n",
    "m = p.match('a\\nb')\n",
    "print(m)"
   ]
  },
  {
   "cell_type": "code",
   "execution_count": null,
   "metadata": {},
   "outputs": [],
   "source": []
  },
  {
   "cell_type": "markdown",
   "metadata": {},
   "source": [
    "### 2) IGNORECASE, I"
   ]
  },
  {
   "cell_type": "code",
   "execution_count": 60,
   "metadata": {},
   "outputs": [
    {
     "name": "stdout",
     "output_type": "stream",
     "text": [
      "<re.Match object; span=(0, 6), match='python'>\n",
      "<re.Match object; span=(0, 6), match='Python'>\n",
      "<re.Match object; span=(0, 6), match='PYTHON'>\n"
     ]
    }
   ],
   "source": [
    "import re \n",
    "p = re.compile('[a-z]+', re.IGNORECASE) # 대소문자를 무시하고 모두 매칭시킴\n",
    "m1 = p.match('python')\n",
    "m2 = p.match('Python')\n",
    "m3 = p.match('PYTHON')\n",
    "\n",
    "print(m1)\n",
    "print(m2)\n",
    "print(m3)"
   ]
  },
  {
   "cell_type": "markdown",
   "metadata": {},
   "source": []
  },
  {
   "cell_type": "markdown",
   "metadata": {},
   "source": [
    "### 3) MULTILINE, M"
   ]
  },
  {
   "cell_type": "code",
   "execution_count": 62,
   "metadata": {},
   "outputs": [
    {
     "name": "stdout",
     "output_type": "stream",
     "text": [
      "['python one']\n"
     ]
    }
   ],
   "source": [
    "import re \n",
    "p = re.compile('^python\\s\\w+') # ^ 맨처음, \\s space(공백), \\w word(알파벳, 숫자, _)중의 한 문자\n",
    "data = '''python one\n",
    "life is too short\n",
    "python two\n",
    "you need python\n",
    "python three'''\n",
    "\n",
    "print(p.findall(data)) # ^python <- 표현으로 해당 단어가 문자열의 맨 앞에 잇어야함."
   ]
  },
  {
   "cell_type": "code",
   "execution_count": 64,
   "metadata": {},
   "outputs": [
    {
     "name": "stdout",
     "output_type": "stream",
     "text": [
      "['python one', 'python two', 'python three']\n"
     ]
    }
   ],
   "source": [
    "import re \n",
    "p = re.compile('^python\\s\\w+', re.M) # re.M 옵션은 맨처음이 아닌 라인의 처음을 뒤져서 반환함.\n",
    "data = '''python one\n",
    "life is too short\n",
    "python two\n",
    "you need python\n",
    "python three'''\n",
    "\n",
    "print(p.findall(data)) # "
   ]
  },
  {
   "cell_type": "markdown",
   "metadata": {},
   "source": [
    "### VERBOSS, X\n"
   ]
  },
  {
   "cell_type": "code",
   "execution_count": 65,
   "metadata": {},
   "outputs": [],
   "source": [
    "import re \n",
    "charref = re.compile(r'&[#](0[0-7]+[0-9]+|x[0-9]+|x[0-9a-fA-F]+);')\n"
   ]
  },
  {
   "cell_type": "code",
   "execution_count": 67,
   "metadata": {},
   "outputs": [],
   "source": [
    "charref = re.compile(r'''\n",
    "    &[#]          \n",
    "    (\n",
    "    0[0-7]+\n",
    "    [0-9]+\n",
    "    |x[0-9]+\n",
    "    |x[0-9a-fA-F]+\n",
    "    )\n",
    "    ;\n",
    "''', re.VERBOSE)"
   ]
  },
  {
   "cell_type": "code",
   "execution_count": null,
   "metadata": {},
   "outputs": [],
   "source": []
  },
  {
   "cell_type": "code",
   "execution_count": null,
   "metadata": {},
   "outputs": [],
   "source": []
  },
  {
   "cell_type": "markdown",
   "metadata": {},
   "source": [
    "# 백슬레쉬 문제 \n",
    "> \\section   \n",
    "> p = re.compile('\\\\\\\\section')   \n",
    "> p = re.compile(r'\\\\section')   "
   ]
  },
  {
   "cell_type": "code",
   "execution_count": null,
   "metadata": {},
   "outputs": [],
   "source": []
  },
  {
   "cell_type": "code",
   "execution_count": null,
   "metadata": {},
   "outputs": [],
   "source": []
  },
  {
   "cell_type": "markdown",
   "metadata": {},
   "source": [
    "### 자주 사용하는 문자 클래스 \n",
    "\\[0-9\\] 또는 \\[a-zA-Z\\] 등은 무척 자주 사용하는 정규 표현식이다. 이렇게 자주 사용하는 정규식은 별도의 표기법으로 표현할 수 있다. 다음을 기억해 두자. "
   ]
  },
  {
   "cell_type": "markdown",
   "metadata": {},
   "source": [
    "|정규 표현식|설명|\n",
    "|---|---|\n",
    "|\\d|숫자와 매치, \\[0-9\\]와 동일한 표현식 |\n",
    "|\\D| 숫자가 아닌 것과 매치, \\[^0-9\\]|\n",
    "|\\s| whitespace문자 (space나 tab처럼 공백을 표현하는 문자)와 매치, \\[\\t\\n\\r\\f\\v\\]와 동일한 표현식. 맨 앞의 빈칸은 공백 문자를 의미|\n",
    "|\\S| whitespace 문자가 아닌 것과 매치, \\[^\\t\\n\\r\\f\\v\\]와 동일한 표현식|\n",
    "|\\w| 문자+숫자와 매치 , [a-zA-Z0-9_]와 동일한 표현식|\n",
    "|\\W| 문자+숫자가 아닌 문자와 매치, \\[^a-z-A-Z0-9_\\]와 동일한 표현식|"
   ]
  },
  {
   "cell_type": "code",
   "execution_count": null,
   "metadata": {},
   "outputs": [],
   "source": []
  },
  {
   "cell_type": "code",
   "execution_count": null,
   "metadata": {},
   "outputs": [],
   "source": []
  },
  {
   "cell_type": "markdown",
   "metadata": {},
   "source": [
    "## 메타문자 | "
   ]
  },
  {
   "cell_type": "code",
   "execution_count": 70,
   "metadata": {},
   "outputs": [
    {
     "name": "stdout",
     "output_type": "stream",
     "text": [
      "<re.Match object; span=(0, 4), match='Crow'>\n"
     ]
    }
   ],
   "source": [
    "p = re.compile('Crow|Servo')\n",
    "m = p.match('CrowHelloCrow')\n",
    "print(m)"
   ]
  },
  {
   "cell_type": "markdown",
   "metadata": {},
   "source": [
    "## 메타문자 ^ \n",
    "맨 처음을 의미"
   ]
  },
  {
   "cell_type": "code",
   "execution_count": 75,
   "metadata": {},
   "outputs": [
    {
     "name": "stdout",
     "output_type": "stream",
     "text": [
      "<re.Match object; span=(0, 4), match='Life'>\n",
      "None\n"
     ]
    }
   ],
   "source": [
    "print(re.search('^Life', 'Life is too short'))\n",
    "print(re.search('^Life', 'My Life Life is too short'))"
   ]
  },
  {
   "cell_type": "markdown",
   "metadata": {},
   "source": [
    "## 메타문자 $ \n",
    "맨 끝을 의미"
   ]
  },
  {
   "cell_type": "code",
   "execution_count": 79,
   "metadata": {},
   "outputs": [
    {
     "name": "stdout",
     "output_type": "stream",
     "text": [
      "<re.Match object; span=(12, 17), match='short'>\n",
      "None\n"
     ]
    }
   ],
   "source": [
    "print(re.search('short$', 'Life is too short'))\n",
    "print(re.search('short$', 'My Life Life is too short, you need python'))"
   ]
  },
  {
   "cell_type": "markdown",
   "metadata": {},
   "source": [
    "## 메타문자 \\b \n",
    "공백(space)을 의미 "
   ]
  },
  {
   "cell_type": "code",
   "execution_count": 80,
   "metadata": {},
   "outputs": [
    {
     "name": "stdout",
     "output_type": "stream",
     "text": [
      "<re.Match object; span=(3, 8), match='class'>\n",
      "None\n",
      "None\n"
     ]
    }
   ],
   "source": [
    "p = re.compile(r'\\bclass\\b')\n",
    "print(p.search('no class at all'))\n",
    "print(p.search('the declassified algorithm'))\n",
    "print(p.search('one subclass is'))"
   ]
  },
  {
   "cell_type": "code",
   "execution_count": null,
   "metadata": {},
   "outputs": [],
   "source": []
  },
  {
   "cell_type": "markdown",
   "metadata": {},
   "source": [
    "# 그룹핑 1\n",
    "\n",
    "> (ABC)+"
   ]
  },
  {
   "cell_type": "code",
   "execution_count": 87,
   "metadata": {},
   "outputs": [
    {
     "name": "stdout",
     "output_type": "stream",
     "text": [
      "<re.Match object; span=(0, 9), match='ABCABCABC'>\n",
      "ABCABCABC\n"
     ]
    }
   ],
   "source": [
    "p =re.compile('(ABC)+')\n",
    "m = p.search('ABCABCABC OK??')\n",
    "print(m)\n",
    "print(m.group())\n"
   ]
  },
  {
   "cell_type": "markdown",
   "metadata": {},
   "source": [
    "### 추가로 그룹핑하게 되면 match()객체에서 따로 불러오기 가능 \n"
   ]
  },
  {
   "cell_type": "code",
   "execution_count": 91,
   "metadata": {},
   "outputs": [
    {
     "name": "stdout",
     "output_type": "stream",
     "text": [
      "prak\n"
     ]
    }
   ],
   "source": [
    "p = re.compile(r'(\\w+)\\s+\\d+[-]\\d+[-]\\d')\n",
    "m = p.search('prak 010-1234-1234')\n",
    "print(m.group(1))"
   ]
  },
  {
   "cell_type": "markdown",
   "metadata": {},
   "source": [
    "> 그룹핑한 결과를 받아 재사용 할 수 있음"
   ]
  },
  {
   "cell_type": "code",
   "execution_count": 103,
   "metadata": {},
   "outputs": [
    {
     "name": "stdout",
     "output_type": "stream",
     "text": [
      "the the\n"
     ]
    }
   ],
   "source": [
    "p = re.compile(r'(\\b\\w+)\\s+\\1')\n",
    "print(p.search('Paris in the the spring').group())"
   ]
  },
  {
   "cell_type": "markdown",
   "metadata": {},
   "source": [
    "> 그룹핑된 문자열에 이름 붙이기 ?P<name>"
   ]
  },
  {
   "cell_type": "code",
   "execution_count": 109,
   "metadata": {},
   "outputs": [
    {
     "name": "stdout",
     "output_type": "stream",
     "text": [
      "park\n"
     ]
    }
   ],
   "source": [
    "p = re.compile(r\"(?P<name>\\w+)\\s+((\\d+)[-]\\d+[-]\\d+)\")\n",
    "m = p.search('park 010-1234-1234')\n",
    "print(m.group('name'))"
   ]
  },
  {
   "cell_type": "code",
   "execution_count": null,
   "metadata": {},
   "outputs": [],
   "source": []
  },
  {
   "cell_type": "markdown",
   "metadata": {},
   "source": [
    "# 전방탐색: 긍정형 (?=)"
   ]
  },
  {
   "cell_type": "code",
   "execution_count": 114,
   "metadata": {},
   "outputs": [
    {
     "name": "stdout",
     "output_type": "stream",
     "text": [
      "http:\n"
     ]
    }
   ],
   "source": [
    "p = re.compile('.+:')\n",
    "m = p.search('http://google.com')\n",
    "print(m.group())"
   ]
  },
  {
   "cell_type": "code",
   "execution_count": 116,
   "metadata": {},
   "outputs": [
    {
     "name": "stdout",
     "output_type": "stream",
     "text": [
      "http\n"
     ]
    }
   ],
   "source": [
    "p = re.compile('.+(?=:)')\n",
    "m = p.search('http://google.com')\n",
    "print(m.group())"
   ]
  },
  {
   "cell_type": "code",
   "execution_count": null,
   "metadata": {},
   "outputs": [],
   "source": []
  },
  {
   "cell_type": "markdown",
   "metadata": {},
   "source": [
    "# 전방탐색: 부정형 (?!)"
   ]
  },
  {
   "cell_type": "code",
   "execution_count": 120,
   "metadata": {},
   "outputs": [
    {
     "name": "stdout",
     "output_type": "stream",
     "text": [
      "['autoexec.exe', 'autoexec.jpg']\n"
     ]
    }
   ],
   "source": [
    "p = re.compile('.*[.](?!bat$).*$',re.M)\n",
    "l = p.findall(\"\"\"\n",
    "autoexec.exe\n",
    "autoexec.bat\n",
    "autoexec.jpg\n",
    "\"\"\")\n",
    "print(l)"
   ]
  },
  {
   "cell_type": "code",
   "execution_count": 121,
   "metadata": {},
   "outputs": [
    {
     "name": "stdout",
     "output_type": "stream",
     "text": [
      "['autoexec.jpg']\n"
     ]
    }
   ],
   "source": [
    "p = re.compile('.*[.](?!bat$|exe$).*$',re.M) # exe 또한 제외하길 원한다면!\n",
    "l = p.findall(\"\"\"\n",
    "autoexec.exe\n",
    "autoexec.bat\n",
    "autoexec.jpg\n",
    "\"\"\")\n",
    "print(l)"
   ]
  },
  {
   "cell_type": "code",
   "execution_count": null,
   "metadata": {},
   "outputs": [],
   "source": []
  },
  {
   "cell_type": "markdown",
   "metadata": {},
   "source": [
    "### 문자열 바꾸기 sub(substitute)"
   ]
  },
  {
   "cell_type": "code",
   "execution_count": 123,
   "metadata": {},
   "outputs": [
    {
     "data": {
      "text/plain": [
       "'colour socks and colour shoes'"
      ]
     },
     "execution_count": 123,
     "metadata": {},
     "output_type": "execute_result"
    }
   ],
   "source": [
    "p = re.compile('(blue|white|red)')\n",
    "p.sub('colour', 'blue socks and red shoes')"
   ]
  },
  {
   "cell_type": "code",
   "execution_count": null,
   "metadata": {},
   "outputs": [],
   "source": []
  },
  {
   "cell_type": "markdown",
   "metadata": {},
   "source": [
    "### Greedy vs Non-Greedy"
   ]
  },
  {
   "cell_type": "code",
   "execution_count": 125,
   "metadata": {},
   "outputs": [
    {
     "name": "stdout",
     "output_type": "stream",
     "text": [
      "<html><head><title>Title</title>\n",
      "<html>\n"
     ]
    }
   ],
   "source": [
    "s = '<html><head><title>Title</title>'\n",
    "print(re.match('<.*>', s).group()) #Greedy\n",
    "print(re.match('<.*?>', s).group()) #Non-Greedy"
   ]
  },
  {
   "cell_type": "code",
   "execution_count": null,
   "metadata": {},
   "outputs": [],
   "source": []
  },
  {
   "cell_type": "code",
   "execution_count": null,
   "metadata": {},
   "outputs": [],
   "source": []
  },
  {
   "cell_type": "code",
   "execution_count": null,
   "metadata": {},
   "outputs": [],
   "source": []
  }
 ],
 "metadata": {
  "kernelspec": {
   "display_name": "Python 3",
   "language": "python",
   "name": "python3"
  },
  "language_info": {
   "codemirror_mode": {
    "name": "ipython",
    "version": 3
   },
   "file_extension": ".py",
   "mimetype": "text/x-python",
   "name": "python",
   "nbconvert_exporter": "python",
   "pygments_lexer": "ipython3",
   "version": "3.8.6rc1"
  }
 },
 "nbformat": 4,
 "nbformat_minor": 4
}
