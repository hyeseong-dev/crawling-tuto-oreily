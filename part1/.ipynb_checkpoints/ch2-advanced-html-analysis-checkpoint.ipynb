{
 "cells": [
  {
   "cell_type": "code",
   "execution_count": 52,
   "metadata": {},
   "outputs": [],
   "source": [
    "from urllib.request import urlopen\n",
    "from bs4 import BeautifulSoup"
   ]
  },
  {
   "cell_type": "code",
   "execution_count": 53,
   "metadata": {},
   "outputs": [],
   "source": [
    "html = urlopen('http://www.pythonscraping.com/pages/warandpeace.html')\n",
    "bsObj = BeautifulSoup(html, 'html.parser')"
   ]
  },
  {
   "cell_type": "code",
   "execution_count": 54,
   "metadata": {},
   "outputs": [
    {
     "name": "stdout",
     "output_type": "stream",
     "text": [
      "Anna\n",
      "Pavlovna Scherer\n",
      "Empress Marya\n",
      "Fedorovna\n",
      "Prince Vasili Kuragin\n",
      "Anna Pavlovna\n",
      "St. Petersburg\n",
      "the prince\n",
      "Anna Pavlovna\n",
      "Anna Pavlovna\n",
      "the prince\n",
      "the prince\n",
      "the prince\n",
      "Prince Vasili\n",
      "Anna Pavlovna\n",
      "Anna Pavlovna\n",
      "the prince\n",
      "Wintzingerode\n",
      "King of Prussia\n",
      "le Vicomte de Mortemart\n",
      "Montmorencys\n",
      "Rohans\n",
      "Abbe Morio\n",
      "the Emperor\n",
      "the prince\n",
      "Prince Vasili\n",
      "Dowager Empress Marya Fedorovna\n",
      "the baron\n",
      "Anna Pavlovna\n",
      "the Empress\n",
      "the Empress\n",
      "Anna Pavlovna's\n",
      "Her Majesty\n",
      "Baron\n",
      "Funke\n",
      "The prince\n",
      "Anna\n",
      "Pavlovna\n",
      "the Empress\n",
      "The prince\n",
      "Anatole\n",
      "the prince\n",
      "The prince\n",
      "Anna\n",
      "Pavlovna\n",
      "Anna Pavlovna\n"
     ]
    }
   ],
   "source": [
    "nameList = bsObj.findAll('span',{'class':'green'})\n",
    "for name in nameList:\n",
    "    print(name.get_text())\n"
   ]
  },
  {
   "cell_type": "markdown",
   "metadata": {},
   "source": [
    "### find()와 findAll()   \n",
    "가장 자주 쓰는 함수\n",
    "> findAll(tag, attributes, recursive, text, limit, keywords)   \n",
    "> find(tag, attributes, recursive, text, keywords)\n"
   ]
  },
  {
   "cell_type": "markdown",
   "metadata": {},
   "source": [
    "tag 매개변수 -> 태그 이름인 문자열을 넘기거나, 태그 이름으로 이루어진 파이썬 리스트를 넘길수도 있습니다. 예를들어 아래 코드는 문서의 모든 헤더 태그 리스트를 반환합니다. "
   ]
  },
  {
   "cell_type": "code",
   "execution_count": 7,
   "metadata": {},
   "outputs": [
    {
     "data": {
      "text/plain": [
       "[<h1>War and Peace</h1>, <h2>Chapter 1</h2>]"
      ]
     },
     "execution_count": 7,
     "metadata": {},
     "output_type": "execute_result"
    }
   ],
   "source": [
    "bsObj.findAll({'h1','h2','h3','h4','h5','h6',})"
   ]
  },
  {
   "cell_type": "code",
   "execution_count": 48,
   "metadata": {},
   "outputs": [
    {
     "data": {
      "text/plain": [
       "<h1>Totally Normal Gifts</h1>"
      ]
     },
     "execution_count": 48,
     "metadata": {},
     "output_type": "execute_result"
    }
   ],
   "source": [
    "bsObj.find({'h1','h2','h3','h4','h5','h6',})"
   ]
  },
  {
   "cell_type": "markdown",
   "metadata": {},
   "source": []
  },
  {
   "cell_type": "markdown",
   "metadata": {},
   "source": [
    "attributes 매개변수는 속성으로 이루어진 파이썬 딕셔너리 "
   ]
  },
  {
   "cell_type": "code",
   "execution_count": 51,
   "metadata": {},
   "outputs": [
    {
     "data": {
      "text/plain": [
       "[]"
      ]
     },
     "execution_count": 51,
     "metadata": {},
     "output_type": "execute_result"
    }
   ],
   "source": [
    "bsObj.findAll('span', {'class':{'green','red'}})"
   ]
  },
  {
   "cell_type": "code",
   "execution_count": 56,
   "metadata": {},
   "outputs": [
    {
     "data": {
      "text/plain": [
       "75"
      ]
     },
     "execution_count": 56,
     "metadata": {},
     "output_type": "execute_result"
    }
   ],
   "source": [
    "len(bsObj.findAll('span', {'class':{'green','red'}}))"
   ]
  },
  {
   "cell_type": "code",
   "execution_count": 55,
   "metadata": {},
   "outputs": [
    {
     "data": {
      "text/plain": [
       "1"
      ]
     },
     "execution_count": 55,
     "metadata": {},
     "output_type": "execute_result"
    }
   ],
   "source": [
    "len(bsObj.find('span', {'class':{'green','red'}}))"
   ]
  },
  {
   "cell_type": "code",
   "execution_count": null,
   "metadata": {},
   "outputs": [],
   "source": []
  },
  {
   "cell_type": "markdown",
   "metadata": {},
   "source": []
  },
  {
   "cell_type": "code",
   "execution_count": null,
   "metadata": {},
   "outputs": [],
   "source": []
  },
  {
   "cell_type": "markdown",
   "metadata": {},
   "source": [
    "recursive 매개변수는 불리언입니다. 얼마나 깊이 찾아 글어가고 싶은지를 지정\n",
    "recursive가 True이면 findAll함수는 매개변수에 일치하는 태그를 찾아 자식, 자식의 자식을 검색합니다. False이면 문서의 최상위 태그만 찾습니다. 기본적으로 FindAll은 재귀적으로(recursive가 True) 동작합니다. 일반적으로 이 옵션은 그대로 두는 것이 좋습니다."
   ]
  },
  {
   "cell_type": "markdown",
   "metadata": {},
   "source": []
  },
  {
   "cell_type": "markdown",
   "metadata": {},
   "source": [
    "text 매개변수는 태그의 속성이 아닌 텍스트 콘텐츠에 일치한다는 점이 좀 다릅니다. 예를 들어 예제 페이지에서 태그에 둘러싸인 'the prince'가 몇 번 나타났는지 보려면 이전 예제의 .findAll()함수를 다음과 같이 고치면 됩니다. "
   ]
  },
  {
   "cell_type": "code",
   "execution_count": 14,
   "metadata": {},
   "outputs": [
    {
     "name": "stdout",
     "output_type": "stream",
     "text": [
      "['the prince', 'the prince', 'the prince', 'the prince', 'the prince', 'the prince', 'the prince'] \n",
      "\n",
      "7\n"
     ]
    }
   ],
   "source": [
    "nameList = bsObj.findAll(text='the prince')\n",
    "print(nameList,'\\n')\n",
    "print(len(nameList))\n"
   ]
  },
  {
   "cell_type": "markdown",
   "metadata": {},
   "source": [
    "\n"
   ]
  },
  {
   "cell_type": "code",
   "execution_count": null,
   "metadata": {},
   "outputs": [],
   "source": []
  },
  {
   "cell_type": "markdown",
   "metadata": {},
   "source": [
    "limit 매개변수는 물론 findAll에만 사용되요. find는 findAll을 호출하면서 limit을 1로 지정한 것과 같아요. 이 매개변수는 페이지의 항목 처음 몇 개에만 관심이 있을때 사용합니다. \n",
    "이 매개변수는 페이지에 나타난 순서대로 찾으며 그 순서가 원하는 바와 일치한다는 보장은 없으므로 주의하십니다. "
   ]
  },
  {
   "cell_type": "code",
   "execution_count": null,
   "metadata": {},
   "outputs": [],
   "source": []
  },
  {
   "cell_type": "code",
   "execution_count": null,
   "metadata": {},
   "outputs": [],
   "source": []
  },
  {
   "cell_type": "markdown",
   "metadata": {},
   "source": [
    "keyword 매개변수는 특정 속성이 포함된 태그를 선택할 떄 사용합니다. "
   ]
  },
  {
   "cell_type": "code",
   "execution_count": 16,
   "metadata": {
    "collapsed": true,
    "jupyter": {
     "outputs_hidden": true
    }
   },
   "outputs": [
    {
     "data": {
      "text/plain": [
       "[<div id=\"text\">\n",
       " \"<span class=\"red\">Well, Prince, so Genoa and Lucca are now just family estates of the\n",
       " Buonapartes. But I warn you, if you don't tell me that this means war,\n",
       " if you still try to defend the infamies and horrors perpetrated by\n",
       " that Antichrist- I really believe he is Antichrist- I will have\n",
       " nothing more to do with you and you are no longer my friend, no longer\n",
       " my 'faithful slave,' as you call yourself! But how do you do? I see\n",
       " I have frightened you- sit down and tell me all the news.</span>\"\n",
       " <p></p>\n",
       " It was in July, 1805, and the speaker was the well-known <span class=\"green\">Anna\n",
       " Pavlovna Scherer</span>, maid of honor and favorite of the <span class=\"green\">Empress Marya\n",
       " Fedorovna</span>. With these words she greeted <span class=\"green\">Prince Vasili Kuragin</span>, a man\n",
       " of high rank and importance, who was the first to arrive at her\n",
       " reception. <span class=\"green\">Anna Pavlovna</span> had had a cough for some days. She was, as\n",
       " she said, suffering from la grippe; grippe being then a new word in\n",
       " <span class=\"green\">St. Petersburg</span>, used only by the elite.\n",
       " <p></p>\n",
       " All her invitations without exception, written in French, and\n",
       " delivered by a scarlet-liveried footman that morning, ran as follows:\n",
       " <p></p>\n",
       " \"<span class=\"red\">If you have nothing better to do, Count [or Prince], and if the\n",
       " prospect of spending an evening with a poor invalid is not too\n",
       " terrible, I shall be very charmed to see you tonight between 7 and 10-\n",
       " Annette Scherer.</span>\"\n",
       " <p></p>\n",
       " \"<span class=\"red\">Heavens! what a virulent attack!</span>\" replied <span class=\"green\">the prince</span>, not in the\n",
       " least disconcerted by this reception. He had just entered, wearing\n",
       " an embroidered court uniform, knee breeches, and shoes, and had\n",
       " stars on his breast and a serene expression on his flat face. He spoke\n",
       " in that refined French in which our grandfathers not only spoke but\n",
       " thought, and with the gentle, patronizing intonation natural to a\n",
       " man of importance who had grown old in society and at court. He went\n",
       " up to <span class=\"green\">Anna Pavlovna</span>, kissed her hand, presenting to her his bald,\n",
       " scented, and shining head, and complacently seated himself on the\n",
       " sofa.\n",
       " <p></p>\n",
       " \"<span class=\"red\">First of all, dear friend, tell me how you are. Set your friend's\n",
       " mind at rest,</span>\" said he without altering his tone, beneath the\n",
       " politeness and affected sympathy of which indifference and even\n",
       " irony could be discerned.\n",
       " <p></p>\n",
       " \"<span class=\"red\">Can one be well while suffering morally? Can one be calm in times\n",
       " like these if one has any feeling?</span>\" said <span class=\"green\">Anna Pavlovna</span>. \"<span class=\"red\">You are\n",
       " staying the whole evening, I hope?</span>\"\n",
       " <p></p>\n",
       " \"<span class=\"red\">And the fete at the English ambassador's? Today is Wednesday. I\n",
       " must put in an appearance there,</span>\" said <span class=\"green\">the prince</span>. \"<span class=\"red\">My daughter is\n",
       " coming for me to take me there.</span>\"\n",
       " <p></p>\n",
       " \"<span class=\"red\">I thought today's fete had been canceled. I confess all these\n",
       " festivities and fireworks are becoming wearisome.</span>\"\n",
       " <p></p>\n",
       " \"<span class=\"red\">If they had known that you wished it, the entertainment would\n",
       " have been put off,</span>\" said <span class=\"green\">the prince</span>, who, like a wound-up clock, by\n",
       " force of habit said things he did not even wish to be believed.\n",
       " <p></p>\n",
       " \"<span class=\"red\">Don't tease! Well, and what has been decided about Novosiltsev's\n",
       " dispatch? You know everything.</span>\"\n",
       " <p></p>\n",
       " \"<span class=\"red\">What can one say about it?</span>\" replied <span class=\"green\">the prince</span> in a cold,\n",
       " listless tone. \"<span class=\"red\">What has been decided? They have decided that\n",
       " Buonaparte has burnt his boats, and I believe that we are ready to\n",
       " burn ours.</span>\"\n",
       " <p></p>\n",
       " <span class=\"green\">Prince Vasili</span> always spoke languidly, like an actor repeating a\n",
       " stale part. <span class=\"green\">Anna Pavlovna</span> Scherer on the contrary, despite her forty\n",
       " years, overflowed with animation and impulsiveness. To be an\n",
       " enthusiast had become her social vocation and, sometimes even when she\n",
       " did not feel like it, she became enthusiastic in order not to\n",
       " disappoint the expectations of those who knew her. The subdued smile\n",
       " which, though it did not suit her faded features, always played\n",
       " round her lips expressed, as in a spoiled child, a continual\n",
       " consciousness of her charming defect, which she neither wished, nor\n",
       " could, nor considered it necessary, to correct.\n",
       " <p></p>\n",
       " In the midst of a conversation on political matters <span class=\"green\">Anna Pavlovna</span>\n",
       " burst out:\n",
       " <p></p>\n",
       " \"<span class=\"red\">Oh, don't speak to me of Austria. Perhaps I don't understand\n",
       " things, but Austria never has wished, and does not wish, for war.\n",
       " She is betraying us! Russia alone must save Europe. Our gracious\n",
       " sovereign recognizes his high vocation and will be true to it. That is\n",
       " the one thing I have faith in! Our good and wonderful sovereign has to\n",
       " perform the noblest role on earth, and he is so virtuous and noble\n",
       " that God will not forsake him. He will fulfill his vocation and\n",
       " crush the hydra of revolution, which has become more terrible than\n",
       " ever in the person of this murderer and villain! We alone must\n",
       " avenge the blood of the just one.... Whom, I ask you, can we rely\n",
       " on?... England with her commercial spirit will not and cannot\n",
       " understand the Emperor Alexander's loftiness of soul. She has\n",
       " refused to evacuate Malta. She wanted to find, and still seeks, some\n",
       " secret motive in our actions. What answer did Novosiltsev get? None.\n",
       " The English have not understood and cannot understand the\n",
       " self-abnegation of our Emperor who wants nothing for himself, but only\n",
       " desires the good of mankind. And what have they promised? Nothing! And\n",
       " what little they have promised they will not perform! Prussia has\n",
       " always declared that Buonaparte is invincible, and that all Europe\n",
       " is powerless before him.... And I don't believe a word that Hardenburg\n",
       " says, or Haugwitz either. This famous Prussian neutrality is just a\n",
       " trap. I have faith only in God and the lofty destiny of our adored\n",
       " monarch. He will save Europe!</span>\"\n",
       " <p></p>\n",
       " She suddenly paused, smiling at her own impetuosity.\n",
       " <p></p>\n",
       " \"<span class=\"red\">I think,</span>\" said <span class=\"green\">the prince</span> with a smile, \"<span class=\"red\">that if you had been\n",
       " sent instead of our dear <span class=\"green\">Wintzingerode</span> you would have captured the\n",
       " <span class=\"green\">King of Prussia</span>'s consent by assault. You are so eloquent. Will you\n",
       " give me a cup of tea?</span>\"\n",
       " <p></p>\n",
       " \"<span class=\"red\">In a moment. A propos,</span>\" she added, becoming calm again, \"<span class=\"red\">I am\n",
       " expecting two very interesting men tonight, <span class=\"green\">le Vicomte de Mortemart</span>,\n",
       " who is connected with the <span class=\"green\">Montmorencys</span> through the <span class=\"green\">Rohans</span>, one of\n",
       " the best French families. He is one of the genuine emigres, the good\n",
       " ones. And also the <span class=\"green\">Abbe Morio</span>. Do you know that profound thinker? He\n",
       " has been received by <span class=\"green\">the Emperor</span>. Had you heard?</span>\"\n",
       " <p></p>\n",
       " \"<span class=\"red\">I shall be delighted to meet them,</span>\" said <span class=\"green\">the prince</span>. \"<span class=\"red\">But tell me,</span>\"\n",
       " he added with studied carelessness as if it had only just occurred\n",
       " to him, though the question he was about to ask was the chief motive\n",
       " of his visit, \"<span class=\"red\">is it true that the Dowager Empress wants Baron Funke\n",
       " to be appointed first secretary at Vienna? The baron by all accounts\n",
       " is a poor creature.</span>\"\n",
       " <p></p>\n",
       " <span class=\"green\">Prince Vasili</span> wished to obtain this post for his son, but others\n",
       " were trying through the <span class=\"green\">Dowager Empress Marya Fedorovna</span> to secure it\n",
       " for <span class=\"green\">the baron</span>.\n",
       " <p></p>\n",
       " <span class=\"green\">Anna Pavlovna</span> almost closed her eyes to indicate that neither she\n",
       " nor anyone else had a right to criticize what <span class=\"green\">the Empress</span> desired or\n",
       " was pleased with.\n",
       " <p></p>\n",
       " \"<span class=\"red\">Baron Funke has been recommended to the Dowager Empress by her\n",
       " sister,</span>\" was all she said, in a dry and mournful tone.\n",
       " <p></p>\n",
       " As she named <span class=\"green\">the Empress</span>, <span class=\"green\">Anna Pavlovna's</span> face suddenly assumed an\n",
       " expression of profound and sincere devotion and respect mingled with\n",
       " sadness, and this occurred every time she mentioned her illustrious\n",
       " patroness. She added that <span class=\"green\">Her Majesty</span> had deigned to show <span class=\"green\">Baron\n",
       " Funke</span>, and again her face clouded over with sadness.\n",
       " <p></p>\n",
       " <span class=\"green\">The prince</span> was silent and looked indifferent. But, with the\n",
       " womanly and courtierlike quickness and tact habitual to her, <span class=\"green\">Anna\n",
       " Pavlovna</span> wished both to rebuke him (for daring to speak he had done of\n",
       " a man recommended to <span class=\"green\">the Empress</span>) and at the same time to console him,\n",
       " so she said:\n",
       " <p></p>\n",
       " \"<span class=\"red\">Now about your family. Do you know that since your daughter came\n",
       " out everyone has been enraptured by her? They say she is amazingly\n",
       " beautiful.</span>\"\n",
       " <p></p>\n",
       " <span class=\"green\">The prince</span> bowed to signify his respect and gratitude.\n",
       " <p></p>\n",
       " \"<span class=\"red\">I often think,</span>\" she continued after a short pause, drawing nearer\n",
       " to the prince and smiling amiably at him as if to show that\n",
       " political and social topics were ended and the time had come for\n",
       " intimate conversation- \"<span class=\"red\">I often think how unfairly sometimes the\n",
       " joys of life are distributed. Why has fate given you two such splendid\n",
       " children? I don't speak of <span class=\"green\">Anatole</span>, your youngest. I don't like\n",
       " him,</span>\" she added in a tone admitting of no rejoinder and raising her\n",
       " eyebrows. \"<span class=\"red\">Two such charming children. And really you appreciate\n",
       " them less than anyone, and so you don't deserve to have them.</span>\"\n",
       " <p></p>\n",
       " And she smiled her ecstatic smile.\n",
       " <p></p>\n",
       " \"<span class=\"red\">I can't help it,</span>\" said <span class=\"green\">the prince</span>. \"<span class=\"red\">Lavater would have said I\n",
       " lack the bump of paternity.</span>\"\n",
       " <p></p>\n",
       " \"<span class=\"red\">Don't joke; I mean to have a serious talk with you. Do you know I\n",
       " am dissatisfied with your younger son? Between ourselves</span>\" (and her\n",
       " face assumed its melancholy expression), \"<span class=\"red\">he was mentioned at Her\n",
       " Majesty's and you were pitied....</span>\"\n",
       " <p></p>\n",
       " <span class=\"green\">The prince</span> answered nothing, but she looked at him significantly,\n",
       " awaiting a reply. He frowned.\n",
       " <p></p>\n",
       " \"<span class=\"red\">What would you have me do?</span>\" he said at last. \"<span class=\"red\">You know I did all\n",
       " a father could for their education, and they have both turned out\n",
       " fools. Hippolyte is at least a quiet fool, but Anatole is an active\n",
       " one. That is the only difference between them.</span>\" He said this smiling\n",
       " in a way more natural and animated than usual, so that the wrinkles\n",
       " round his mouth very clearly revealed something unexpectedly coarse\n",
       " and unpleasant.\n",
       " <p></p>\n",
       " \"<span class=\"red\">And why are children born to such men as you? If you were not a\n",
       " father there would be nothing I could reproach you with,</span>\" said <span class=\"green\">Anna\n",
       " Pavlovna</span>, looking up pensively.\n",
       " <p></p>\n",
       " \"<span class=\"red\">I am your faithful slave and to you alone I can confess that my\n",
       " children are the bane of my life. It is the cross I have to bear. That\n",
       " is how I explain it to myself. It can't be helped!</span>\"\n",
       " <p></p>\n",
       " He said no more, but expressed his resignation to cruel fate by a\n",
       " gesture. <span class=\"green\">Anna Pavlovna</span> meditated.\n",
       " </div>]"
      ]
     },
     "execution_count": 16,
     "metadata": {},
     "output_type": "execute_result"
    }
   ],
   "source": [
    "allText = bsObj.findAll(id='text')\n",
    "allText"
   ]
  },
  {
   "cell_type": "code",
   "execution_count": 18,
   "metadata": {},
   "outputs": [
    {
     "name": "stdout",
     "output_type": "stream",
     "text": [
      "203\n"
     ]
    }
   ],
   "source": [
    "print(len(allText[0]))"
   ]
  },
  {
   "cell_type": "markdown",
   "metadata": {},
   "source": [
    "### keyword 매개변수를 사용시 주의점 "
   ]
  },
  {
   "cell_type": "code",
   "execution_count": 19,
   "metadata": {},
   "outputs": [
    {
     "name": "stdout",
     "output_type": "stream",
     "text": [
      "hello\n"
     ]
    }
   ],
   "source": [
    "a, b =1,1\n",
    "if a == b:\n",
    "    print('hello')"
   ]
  },
  {
   "cell_type": "code",
   "execution_count": 25,
   "metadata": {
    "collapsed": true,
    "jupyter": {
     "outputs_hidden": true
    }
   },
   "outputs": [
    {
     "data": {
      "text/plain": [
       "[<div id=\"text\">\n",
       " \"<span class=\"red\">Well, Prince, so Genoa and Lucca are now just family estates of the\n",
       " Buonapartes. But I warn you, if you don't tell me that this means war,\n",
       " if you still try to defend the infamies and horrors perpetrated by\n",
       " that Antichrist- I really believe he is Antichrist- I will have\n",
       " nothing more to do with you and you are no longer my friend, no longer\n",
       " my 'faithful slave,' as you call yourself! But how do you do? I see\n",
       " I have frightened you- sit down and tell me all the news.</span>\"\n",
       " <p></p>\n",
       " It was in July, 1805, and the speaker was the well-known <span class=\"green\">Anna\n",
       " Pavlovna Scherer</span>, maid of honor and favorite of the <span class=\"green\">Empress Marya\n",
       " Fedorovna</span>. With these words she greeted <span class=\"green\">Prince Vasili Kuragin</span>, a man\n",
       " of high rank and importance, who was the first to arrive at her\n",
       " reception. <span class=\"green\">Anna Pavlovna</span> had had a cough for some days. She was, as\n",
       " she said, suffering from la grippe; grippe being then a new word in\n",
       " <span class=\"green\">St. Petersburg</span>, used only by the elite.\n",
       " <p></p>\n",
       " All her invitations without exception, written in French, and\n",
       " delivered by a scarlet-liveried footman that morning, ran as follows:\n",
       " <p></p>\n",
       " \"<span class=\"red\">If you have nothing better to do, Count [or Prince], and if the\n",
       " prospect of spending an evening with a poor invalid is not too\n",
       " terrible, I shall be very charmed to see you tonight between 7 and 10-\n",
       " Annette Scherer.</span>\"\n",
       " <p></p>\n",
       " \"<span class=\"red\">Heavens! what a virulent attack!</span>\" replied <span class=\"green\">the prince</span>, not in the\n",
       " least disconcerted by this reception. He had just entered, wearing\n",
       " an embroidered court uniform, knee breeches, and shoes, and had\n",
       " stars on his breast and a serene expression on his flat face. He spoke\n",
       " in that refined French in which our grandfathers not only spoke but\n",
       " thought, and with the gentle, patronizing intonation natural to a\n",
       " man of importance who had grown old in society and at court. He went\n",
       " up to <span class=\"green\">Anna Pavlovna</span>, kissed her hand, presenting to her his bald,\n",
       " scented, and shining head, and complacently seated himself on the\n",
       " sofa.\n",
       " <p></p>\n",
       " \"<span class=\"red\">First of all, dear friend, tell me how you are. Set your friend's\n",
       " mind at rest,</span>\" said he without altering his tone, beneath the\n",
       " politeness and affected sympathy of which indifference and even\n",
       " irony could be discerned.\n",
       " <p></p>\n",
       " \"<span class=\"red\">Can one be well while suffering morally? Can one be calm in times\n",
       " like these if one has any feeling?</span>\" said <span class=\"green\">Anna Pavlovna</span>. \"<span class=\"red\">You are\n",
       " staying the whole evening, I hope?</span>\"\n",
       " <p></p>\n",
       " \"<span class=\"red\">And the fete at the English ambassador's? Today is Wednesday. I\n",
       " must put in an appearance there,</span>\" said <span class=\"green\">the prince</span>. \"<span class=\"red\">My daughter is\n",
       " coming for me to take me there.</span>\"\n",
       " <p></p>\n",
       " \"<span class=\"red\">I thought today's fete had been canceled. I confess all these\n",
       " festivities and fireworks are becoming wearisome.</span>\"\n",
       " <p></p>\n",
       " \"<span class=\"red\">If they had known that you wished it, the entertainment would\n",
       " have been put off,</span>\" said <span class=\"green\">the prince</span>, who, like a wound-up clock, by\n",
       " force of habit said things he did not even wish to be believed.\n",
       " <p></p>\n",
       " \"<span class=\"red\">Don't tease! Well, and what has been decided about Novosiltsev's\n",
       " dispatch? You know everything.</span>\"\n",
       " <p></p>\n",
       " \"<span class=\"red\">What can one say about it?</span>\" replied <span class=\"green\">the prince</span> in a cold,\n",
       " listless tone. \"<span class=\"red\">What has been decided? They have decided that\n",
       " Buonaparte has burnt his boats, and I believe that we are ready to\n",
       " burn ours.</span>\"\n",
       " <p></p>\n",
       " <span class=\"green\">Prince Vasili</span> always spoke languidly, like an actor repeating a\n",
       " stale part. <span class=\"green\">Anna Pavlovna</span> Scherer on the contrary, despite her forty\n",
       " years, overflowed with animation and impulsiveness. To be an\n",
       " enthusiast had become her social vocation and, sometimes even when she\n",
       " did not feel like it, she became enthusiastic in order not to\n",
       " disappoint the expectations of those who knew her. The subdued smile\n",
       " which, though it did not suit her faded features, always played\n",
       " round her lips expressed, as in a spoiled child, a continual\n",
       " consciousness of her charming defect, which she neither wished, nor\n",
       " could, nor considered it necessary, to correct.\n",
       " <p></p>\n",
       " In the midst of a conversation on political matters <span class=\"green\">Anna Pavlovna</span>\n",
       " burst out:\n",
       " <p></p>\n",
       " \"<span class=\"red\">Oh, don't speak to me of Austria. Perhaps I don't understand\n",
       " things, but Austria never has wished, and does not wish, for war.\n",
       " She is betraying us! Russia alone must save Europe. Our gracious\n",
       " sovereign recognizes his high vocation and will be true to it. That is\n",
       " the one thing I have faith in! Our good and wonderful sovereign has to\n",
       " perform the noblest role on earth, and he is so virtuous and noble\n",
       " that God will not forsake him. He will fulfill his vocation and\n",
       " crush the hydra of revolution, which has become more terrible than\n",
       " ever in the person of this murderer and villain! We alone must\n",
       " avenge the blood of the just one.... Whom, I ask you, can we rely\n",
       " on?... England with her commercial spirit will not and cannot\n",
       " understand the Emperor Alexander's loftiness of soul. She has\n",
       " refused to evacuate Malta. She wanted to find, and still seeks, some\n",
       " secret motive in our actions. What answer did Novosiltsev get? None.\n",
       " The English have not understood and cannot understand the\n",
       " self-abnegation of our Emperor who wants nothing for himself, but only\n",
       " desires the good of mankind. And what have they promised? Nothing! And\n",
       " what little they have promised they will not perform! Prussia has\n",
       " always declared that Buonaparte is invincible, and that all Europe\n",
       " is powerless before him.... And I don't believe a word that Hardenburg\n",
       " says, or Haugwitz either. This famous Prussian neutrality is just a\n",
       " trap. I have faith only in God and the lofty destiny of our adored\n",
       " monarch. He will save Europe!</span>\"\n",
       " <p></p>\n",
       " She suddenly paused, smiling at her own impetuosity.\n",
       " <p></p>\n",
       " \"<span class=\"red\">I think,</span>\" said <span class=\"green\">the prince</span> with a smile, \"<span class=\"red\">that if you had been\n",
       " sent instead of our dear <span class=\"green\">Wintzingerode</span> you would have captured the\n",
       " <span class=\"green\">King of Prussia</span>'s consent by assault. You are so eloquent. Will you\n",
       " give me a cup of tea?</span>\"\n",
       " <p></p>\n",
       " \"<span class=\"red\">In a moment. A propos,</span>\" she added, becoming calm again, \"<span class=\"red\">I am\n",
       " expecting two very interesting men tonight, <span class=\"green\">le Vicomte de Mortemart</span>,\n",
       " who is connected with the <span class=\"green\">Montmorencys</span> through the <span class=\"green\">Rohans</span>, one of\n",
       " the best French families. He is one of the genuine emigres, the good\n",
       " ones. And also the <span class=\"green\">Abbe Morio</span>. Do you know that profound thinker? He\n",
       " has been received by <span class=\"green\">the Emperor</span>. Had you heard?</span>\"\n",
       " <p></p>\n",
       " \"<span class=\"red\">I shall be delighted to meet them,</span>\" said <span class=\"green\">the prince</span>. \"<span class=\"red\">But tell me,</span>\"\n",
       " he added with studied carelessness as if it had only just occurred\n",
       " to him, though the question he was about to ask was the chief motive\n",
       " of his visit, \"<span class=\"red\">is it true that the Dowager Empress wants Baron Funke\n",
       " to be appointed first secretary at Vienna? The baron by all accounts\n",
       " is a poor creature.</span>\"\n",
       " <p></p>\n",
       " <span class=\"green\">Prince Vasili</span> wished to obtain this post for his son, but others\n",
       " were trying through the <span class=\"green\">Dowager Empress Marya Fedorovna</span> to secure it\n",
       " for <span class=\"green\">the baron</span>.\n",
       " <p></p>\n",
       " <span class=\"green\">Anna Pavlovna</span> almost closed her eyes to indicate that neither she\n",
       " nor anyone else had a right to criticize what <span class=\"green\">the Empress</span> desired or\n",
       " was pleased with.\n",
       " <p></p>\n",
       " \"<span class=\"red\">Baron Funke has been recommended to the Dowager Empress by her\n",
       " sister,</span>\" was all she said, in a dry and mournful tone.\n",
       " <p></p>\n",
       " As she named <span class=\"green\">the Empress</span>, <span class=\"green\">Anna Pavlovna's</span> face suddenly assumed an\n",
       " expression of profound and sincere devotion and respect mingled with\n",
       " sadness, and this occurred every time she mentioned her illustrious\n",
       " patroness. She added that <span class=\"green\">Her Majesty</span> had deigned to show <span class=\"green\">Baron\n",
       " Funke</span>, and again her face clouded over with sadness.\n",
       " <p></p>\n",
       " <span class=\"green\">The prince</span> was silent and looked indifferent. But, with the\n",
       " womanly and courtierlike quickness and tact habitual to her, <span class=\"green\">Anna\n",
       " Pavlovna</span> wished both to rebuke him (for daring to speak he had done of\n",
       " a man recommended to <span class=\"green\">the Empress</span>) and at the same time to console him,\n",
       " so she said:\n",
       " <p></p>\n",
       " \"<span class=\"red\">Now about your family. Do you know that since your daughter came\n",
       " out everyone has been enraptured by her? They say she is amazingly\n",
       " beautiful.</span>\"\n",
       " <p></p>\n",
       " <span class=\"green\">The prince</span> bowed to signify his respect and gratitude.\n",
       " <p></p>\n",
       " \"<span class=\"red\">I often think,</span>\" she continued after a short pause, drawing nearer\n",
       " to the prince and smiling amiably at him as if to show that\n",
       " political and social topics were ended and the time had come for\n",
       " intimate conversation- \"<span class=\"red\">I often think how unfairly sometimes the\n",
       " joys of life are distributed. Why has fate given you two such splendid\n",
       " children? I don't speak of <span class=\"green\">Anatole</span>, your youngest. I don't like\n",
       " him,</span>\" she added in a tone admitting of no rejoinder and raising her\n",
       " eyebrows. \"<span class=\"red\">Two such charming children. And really you appreciate\n",
       " them less than anyone, and so you don't deserve to have them.</span>\"\n",
       " <p></p>\n",
       " And she smiled her ecstatic smile.\n",
       " <p></p>\n",
       " \"<span class=\"red\">I can't help it,</span>\" said <span class=\"green\">the prince</span>. \"<span class=\"red\">Lavater would have said I\n",
       " lack the bump of paternity.</span>\"\n",
       " <p></p>\n",
       " \"<span class=\"red\">Don't joke; I mean to have a serious talk with you. Do you know I\n",
       " am dissatisfied with your younger son? Between ourselves</span>\" (and her\n",
       " face assumed its melancholy expression), \"<span class=\"red\">he was mentioned at Her\n",
       " Majesty's and you were pitied....</span>\"\n",
       " <p></p>\n",
       " <span class=\"green\">The prince</span> answered nothing, but she looked at him significantly,\n",
       " awaiting a reply. He frowned.\n",
       " <p></p>\n",
       " \"<span class=\"red\">What would you have me do?</span>\" he said at last. \"<span class=\"red\">You know I did all\n",
       " a father could for their education, and they have both turned out\n",
       " fools. Hippolyte is at least a quiet fool, but Anatole is an active\n",
       " one. That is the only difference between them.</span>\" He said this smiling\n",
       " in a way more natural and animated than usual, so that the wrinkles\n",
       " round his mouth very clearly revealed something unexpectedly coarse\n",
       " and unpleasant.\n",
       " <p></p>\n",
       " \"<span class=\"red\">And why are children born to such men as you? If you were not a\n",
       " father there would be nothing I could reproach you with,</span>\" said <span class=\"green\">Anna\n",
       " Pavlovna</span>, looking up pensively.\n",
       " <p></p>\n",
       " \"<span class=\"red\">I am your faithful slave and to you alone I can confess that my\n",
       " children are the bane of my life. It is the cross I have to bear. That\n",
       " is how I explain it to myself. It can't be helped!</span>\"\n",
       " <p></p>\n",
       " He said no more, but expressed his resignation to cruel fate by a\n",
       " gesture. <span class=\"green\">Anna Pavlovna</span> meditated.\n",
       " </div>]"
      ]
     },
     "execution_count": 25,
     "metadata": {},
     "output_type": "execute_result"
    }
   ],
   "source": [
    "bsObj.findAll(id='text')"
   ]
  },
  {
   "cell_type": "code",
   "execution_count": 28,
   "metadata": {},
   "outputs": [
    {
     "data": {
      "text/plain": [
       "[]"
      ]
     },
     "execution_count": 28,
     "metadata": {},
     "output_type": "execute_result"
    }
   ],
   "source": [
    "bsObj.findAll(\"\", {'id':'text'}) # 책에서는 \"\"을 사용해도 bsObj.findAll(id='text') 과 동일한 결과가 나온다고 하지만 div를 넣어야 동일한 결과가 출력됨"
   ]
  },
  {
   "cell_type": "code",
   "execution_count": 30,
   "metadata": {},
   "outputs": [
    {
     "ename": "SyntaxError",
     "evalue": "invalid syntax (<ipython-input-30-fd3b1fe52284>, line 1)",
     "output_type": "error",
     "traceback": [
      "\u001b[1;36m  File \u001b[1;32m\"<ipython-input-30-fd3b1fe52284>\"\u001b[1;36m, line \u001b[1;32m1\u001b[0m\n\u001b[1;33m    bsObj.findAll(class='green') # class는 파이썬에서 예약어이므로 사용시 오류가 발생함\u001b[0m\n\u001b[1;37m                  ^\u001b[0m\n\u001b[1;31mSyntaxError\u001b[0m\u001b[1;31m:\u001b[0m invalid syntax\n"
     ]
    }
   ],
   "source": [
    "bsObj.findAll(class='green') # class는 파이썬에서 예약어이므로 사용시 오류가 발생함"
   ]
  },
  {
   "cell_type": "code",
   "execution_count": 34,
   "metadata": {
    "collapsed": true,
    "jupyter": {
     "outputs_hidden": true
    }
   },
   "outputs": [
    {
     "data": {
      "text/plain": [
       "[<span class=\"green\">Anna\n",
       " Pavlovna Scherer</span>,\n",
       " <span class=\"green\">Empress Marya\n",
       " Fedorovna</span>,\n",
       " <span class=\"green\">Prince Vasili Kuragin</span>,\n",
       " <span class=\"green\">Anna Pavlovna</span>,\n",
       " <span class=\"green\">St. Petersburg</span>,\n",
       " <span class=\"green\">the prince</span>,\n",
       " <span class=\"green\">Anna Pavlovna</span>,\n",
       " <span class=\"green\">Anna Pavlovna</span>,\n",
       " <span class=\"green\">the prince</span>,\n",
       " <span class=\"green\">the prince</span>,\n",
       " <span class=\"green\">the prince</span>,\n",
       " <span class=\"green\">Prince Vasili</span>,\n",
       " <span class=\"green\">Anna Pavlovna</span>,\n",
       " <span class=\"green\">Anna Pavlovna</span>,\n",
       " <span class=\"green\">the prince</span>,\n",
       " <span class=\"green\">Wintzingerode</span>,\n",
       " <span class=\"green\">King of Prussia</span>,\n",
       " <span class=\"green\">le Vicomte de Mortemart</span>,\n",
       " <span class=\"green\">Montmorencys</span>,\n",
       " <span class=\"green\">Rohans</span>,\n",
       " <span class=\"green\">Abbe Morio</span>,\n",
       " <span class=\"green\">the Emperor</span>,\n",
       " <span class=\"green\">the prince</span>,\n",
       " <span class=\"green\">Prince Vasili</span>,\n",
       " <span class=\"green\">Dowager Empress Marya Fedorovna</span>,\n",
       " <span class=\"green\">the baron</span>,\n",
       " <span class=\"green\">Anna Pavlovna</span>,\n",
       " <span class=\"green\">the Empress</span>,\n",
       " <span class=\"green\">the Empress</span>,\n",
       " <span class=\"green\">Anna Pavlovna's</span>,\n",
       " <span class=\"green\">Her Majesty</span>,\n",
       " <span class=\"green\">Baron\n",
       " Funke</span>,\n",
       " <span class=\"green\">The prince</span>,\n",
       " <span class=\"green\">Anna\n",
       " Pavlovna</span>,\n",
       " <span class=\"green\">the Empress</span>,\n",
       " <span class=\"green\">The prince</span>,\n",
       " <span class=\"green\">Anatole</span>,\n",
       " <span class=\"green\">the prince</span>,\n",
       " <span class=\"green\">The prince</span>,\n",
       " <span class=\"green\">Anna\n",
       " Pavlovna</span>,\n",
       " <span class=\"green\">Anna Pavlovna</span>]"
      ]
     },
     "execution_count": 34,
     "metadata": {},
     "output_type": "execute_result"
    }
   ],
   "source": [
    "bsObj.findAll(\"span\", {'class':'green'})"
   ]
  },
  {
   "cell_type": "code",
   "execution_count": 35,
   "metadata": {
    "collapsed": true,
    "jupyter": {
     "outputs_hidden": true
    }
   },
   "outputs": [
    {
     "data": {
      "text/plain": [
       "[<span class=\"green\">Anna\n",
       " Pavlovna Scherer</span>,\n",
       " <span class=\"green\">Empress Marya\n",
       " Fedorovna</span>,\n",
       " <span class=\"green\">Prince Vasili Kuragin</span>,\n",
       " <span class=\"green\">Anna Pavlovna</span>,\n",
       " <span class=\"green\">St. Petersburg</span>,\n",
       " <span class=\"green\">the prince</span>,\n",
       " <span class=\"green\">Anna Pavlovna</span>,\n",
       " <span class=\"green\">Anna Pavlovna</span>,\n",
       " <span class=\"green\">the prince</span>,\n",
       " <span class=\"green\">the prince</span>,\n",
       " <span class=\"green\">the prince</span>,\n",
       " <span class=\"green\">Prince Vasili</span>,\n",
       " <span class=\"green\">Anna Pavlovna</span>,\n",
       " <span class=\"green\">Anna Pavlovna</span>,\n",
       " <span class=\"green\">the prince</span>,\n",
       " <span class=\"green\">Wintzingerode</span>,\n",
       " <span class=\"green\">King of Prussia</span>,\n",
       " <span class=\"green\">le Vicomte de Mortemart</span>,\n",
       " <span class=\"green\">Montmorencys</span>,\n",
       " <span class=\"green\">Rohans</span>,\n",
       " <span class=\"green\">Abbe Morio</span>,\n",
       " <span class=\"green\">the Emperor</span>,\n",
       " <span class=\"green\">the prince</span>,\n",
       " <span class=\"green\">Prince Vasili</span>,\n",
       " <span class=\"green\">Dowager Empress Marya Fedorovna</span>,\n",
       " <span class=\"green\">the baron</span>,\n",
       " <span class=\"green\">Anna Pavlovna</span>,\n",
       " <span class=\"green\">the Empress</span>,\n",
       " <span class=\"green\">the Empress</span>,\n",
       " <span class=\"green\">Anna Pavlovna's</span>,\n",
       " <span class=\"green\">Her Majesty</span>,\n",
       " <span class=\"green\">Baron\n",
       " Funke</span>,\n",
       " <span class=\"green\">The prince</span>,\n",
       " <span class=\"green\">Anna\n",
       " Pavlovna</span>,\n",
       " <span class=\"green\">the Empress</span>,\n",
       " <span class=\"green\">The prince</span>,\n",
       " <span class=\"green\">Anatole</span>,\n",
       " <span class=\"green\">the prince</span>,\n",
       " <span class=\"green\">The prince</span>,\n",
       " <span class=\"green\">Anna\n",
       " Pavlovna</span>,\n",
       " <span class=\"green\">Anna Pavlovna</span>]"
      ]
     },
     "execution_count": 35,
     "metadata": {},
     "output_type": "execute_result"
    }
   ],
   "source": [
    "bsObj.findAll(class_='green') # 예약어의 마지막에 아래 언더바를 입력한다."
   ]
  },
  {
   "cell_type": "code",
   "execution_count": null,
   "metadata": {
    "jupyter": {
     "source_hidden": true
    }
   },
   "outputs": [],
   "source": []
  },
  {
   "cell_type": "code",
   "execution_count": null,
   "metadata": {},
   "outputs": [],
   "source": []
  },
  {
   "cell_type": "code",
   "execution_count": null,
   "metadata": {},
   "outputs": [],
   "source": []
  },
  {
   "cell_type": "markdown",
   "metadata": {},
   "source": [
    "### 기타 BeautifulSoup 객체\n",
    "\n",
    "### BeautifulSoup 객체 \n",
    "이전 코드 예제에서는 bsObj와 같은 형태로 사용했습니다. \n",
    "\n",
    "### Tag객체\n",
    "리스트 호출 또는 BeautifulSoup객체에 find와 findAll을 호출해서 또는 다음과 같이 탐색해 들어가서 얻습니다. "
   ]
  },
  {
   "cell_type": "code",
   "execution_count": 43,
   "metadata": {},
   "outputs": [
    {
     "data": {
      "text/plain": [
       "<h1>War and Peace</h1>"
      ]
     },
     "execution_count": 43,
     "metadata": {},
     "output_type": "execute_result"
    }
   ],
   "source": [
    "bsObj.body.h1"
   ]
  },
  {
   "cell_type": "markdown",
   "metadata": {},
   "source": [
    "### NavigableString 객체\n",
    "태그 자체가 아니라 태그 안에 들어 있는 텍스트를 나타냅니다. 일부 함수는 Navigable Strings를 다루거나 반환합니다. "
   ]
  },
  {
   "cell_type": "markdown",
   "metadata": {},
   "source": [
    "### Comment 객체\n",
    "주석 태그 안에 들어 있는 HTML주석<-- like this one -->)을 찾는데 사용합니다."
   ]
  },
  {
   "cell_type": "code",
   "execution_count": null,
   "metadata": {},
   "outputs": [],
   "source": []
  },
  {
   "cell_type": "markdown",
   "metadata": {},
   "source": [
    "### 트리이동 \n",
    "\n",
    "### 자식과 자손"
   ]
  },
  {
   "cell_type": "code",
   "execution_count": 46,
   "metadata": {},
   "outputs": [],
   "source": [
    "from urllib.request import urlopen\n",
    "from bs4 import BeautifulSoup"
   ]
  },
  {
   "cell_type": "code",
   "execution_count": 65,
   "metadata": {},
   "outputs": [],
   "source": [
    "html = urlopen('http://www.pythonscraping.com/pages/page3.html')\n",
    "bsObj = BeautifulSoup(html, 'html.parser')"
   ]
  },
  {
   "cell_type": "code",
   "execution_count": 72,
   "metadata": {
    "collapsed": true,
    "jupyter": {
     "outputs_hidden": true
    }
   },
   "outputs": [
    {
     "name": "stdout",
     "output_type": "stream",
     "text": [
      "1\n",
      "4\n",
      "1\n",
      "4\n",
      "1\n",
      "4\n",
      "1\n",
      "4\n",
      "1\n",
      "4\n",
      "1\n",
      "4\n",
      "1\n"
     ]
    }
   ],
   "source": [
    "for child in bsObj.find('table', {'id':'giftList'}).children:\n",
    "    print(len(child))"
   ]
  },
  {
   "cell_type": "code",
   "execution_count": 61,
   "metadata": {},
   "outputs": [
    {
     "data": {
      "text/plain": [
       "<list_iterator at 0x1dbf367b2e0>"
      ]
     },
     "execution_count": 61,
     "metadata": {},
     "output_type": "execute_result"
    }
   ],
   "source": [
    "bsObj.find('table', {'id':'giftList'}).children"
   ]
  },
  {
   "cell_type": "code",
   "execution_count": null,
   "metadata": {},
   "outputs": [],
   "source": []
  },
  {
   "cell_type": "code",
   "execution_count": 73,
   "metadata": {},
   "outputs": [],
   "source": [
    "from urllib.request import urlopen\n",
    "from bs4 import BeautifulSoup"
   ]
  },
  {
   "cell_type": "code",
   "execution_count": 74,
   "metadata": {},
   "outputs": [],
   "source": [
    "html = urlopen('http://www.pythonscraping.com/pages/page3.html')\n",
    "bsObj = BeautifulSoup(html, 'html.parser')"
   ]
  },
  {
   "cell_type": "code",
   "execution_count": 81,
   "metadata": {
    "collapsed": true,
    "jupyter": {
     "outputs_hidden": true
    }
   },
   "outputs": [
    {
     "name": "stdout",
     "output_type": "stream",
     "text": [
      "<class 'bs4.element.NavigableString'>\n",
      "<class 'bs4.element.Tag'>\n",
      "<class 'bs4.element.NavigableString'>\n",
      "<class 'bs4.element.Tag'>\n",
      "<class 'bs4.element.NavigableString'>\n",
      "<class 'bs4.element.Tag'>\n",
      "<class 'bs4.element.NavigableString'>\n",
      "<class 'bs4.element.Tag'>\n",
      "<class 'bs4.element.NavigableString'>\n",
      "<class 'bs4.element.Tag'>\n",
      "<class 'bs4.element.NavigableString'>\n",
      "1\n"
     ]
    }
   ],
   "source": [
    "for sibling in bsObj.find('table', {'id':'giftList'}).tr.next_siblings:\n",
    "    print(type(sibling))\n",
    "    \n",
    "print(len(sibling))"
   ]
  },
  {
   "cell_type": "code",
   "execution_count": 125,
   "metadata": {},
   "outputs": [
    {
     "name": "stdout",
     "output_type": "stream",
     "text": [
      "<table id=\"giftList\">\n",
      "<tr><th>\n",
      "Item Title\n",
      "</th><th>\n",
      "Description\n",
      "</th><th>\n",
      "Cost\n",
      "</th><th>\n",
      "Image\n",
      "</th></tr>\n",
      "<tr class=\"gift\" id=\"gift1\"><td>\n",
      "Vegetable Basket\n",
      "</td><td>\n",
      "This vegetable basket is the perfect gift for your health conscious (or overweight) friends!\n",
      "<span class=\"excitingNote\">Now with super-colorful bell peppers!</span>\n",
      "</td><td>\n",
      "$15.00\n",
      "</td><td>\n",
      "<img src=\"../img/gifts/img1.jpg\"/>\n",
      "</td></tr>\n",
      "<tr class=\"gift\" id=\"gift2\"><td>\n",
      "Russian Nesting Dolls\n",
      "</td><td>\n",
      "Hand-painted by trained monkeys, these exquisite dolls are priceless! And by \"priceless,\" we mean \"extremely expensive\"! <span class=\"excitingNote\">8 entire dolls per set! Octuple the presents!</span>\n",
      "</td><td>\n",
      "$10,000.52\n",
      "</td><td>\n",
      "<img src=\"../img/gifts/img2.jpg\"/>\n",
      "</td></tr>\n",
      "<tr class=\"gift\" id=\"gift3\"><td>\n",
      "Fish Painting\n",
      "</td><td>\n",
      "If something seems fishy about this painting, it's because it's a fish! <span class=\"excitingNote\">Also hand-painted by trained monkeys!</span>\n",
      "</td><td>\n",
      "$10,005.00\n",
      "</td><td>\n",
      "<img src=\"../img/gifts/img3.jpg\"/>\n",
      "</td></tr>\n",
      "<tr class=\"gift\" id=\"gift4\"><td>\n",
      "Dead Parrot\n",
      "</td><td>\n",
      "This is an ex-parrot! <span class=\"excitingNote\">Or maybe he's only resting?</span>\n",
      "</td><td>\n",
      "$0.50\n",
      "</td><td>\n",
      "<img src=\"../img/gifts/img4.jpg\"/>\n",
      "</td></tr>\n",
      "<tr class=\"gift\" id=\"gift5\"><td>\n",
      "Mystery Box\n",
      "</td><td>\n",
      "If you love suprises, this mystery box is for you! Do not place on light-colored surfaces. May cause oil staining. <span class=\"excitingNote\">Keep your friends guessing!</span>\n",
      "</td><td>\n",
      "$1.50\n",
      "</td><td>\n",
      "<img src=\"../img/gifts/img6.jpg\"/>\n",
      "</td></tr>\n",
      "</table>\n"
     ]
    }
   ],
   "source": [
    "print(bsObj.find('table', {'id':'giftList'}))"
   ]
  },
  {
   "cell_type": "code",
   "execution_count": 122,
   "metadata": {},
   "outputs": [
    {
     "name": "stdout",
     "output_type": "stream",
     "text": [
      "\n",
      "\n",
      "<tr class=\"gift\" id=\"gift1\"><td>\n",
      "Vegetable Basket\n",
      "</td><td>\n",
      "This vegetable basket is the perfect gift for your health conscious (or overweight) friends!\n",
      "<span class=\"excitingNote\">Now with super-colorful bell peppers!</span>\n",
      "</td><td>\n",
      "$15.00\n",
      "</td><td>\n",
      "<img src=\"../img/gifts/img1.jpg\"/>\n",
      "</td></tr>\n",
      "\n",
      "\n",
      "<tr class=\"gift\" id=\"gift2\"><td>\n",
      "Russian Nesting Dolls\n",
      "</td><td>\n",
      "Hand-painted by trained monkeys, these exquisite dolls are priceless! And by \"priceless,\" we mean \"extremely expensive\"! <span class=\"excitingNote\">8 entire dolls per set! Octuple the presents!</span>\n",
      "</td><td>\n",
      "$10,000.52\n",
      "</td><td>\n",
      "<img src=\"../img/gifts/img2.jpg\"/>\n",
      "</td></tr>\n",
      "\n",
      "\n",
      "<tr class=\"gift\" id=\"gift3\"><td>\n",
      "Fish Painting\n",
      "</td><td>\n",
      "If something seems fishy about this painting, it's because it's a fish! <span class=\"excitingNote\">Also hand-painted by trained monkeys!</span>\n",
      "</td><td>\n",
      "$10,005.00\n",
      "</td><td>\n",
      "<img src=\"../img/gifts/img3.jpg\"/>\n",
      "</td></tr>\n",
      "\n",
      "\n",
      "<tr class=\"gift\" id=\"gift4\"><td>\n",
      "Dead Parrot\n",
      "</td><td>\n",
      "This is an ex-parrot! <span class=\"excitingNote\">Or maybe he's only resting?</span>\n",
      "</td><td>\n",
      "$0.50\n",
      "</td><td>\n",
      "<img src=\"../img/gifts/img4.jpg\"/>\n",
      "</td></tr>\n",
      "\n",
      "\n",
      "<tr class=\"gift\" id=\"gift5\"><td>\n",
      "Mystery Box\n",
      "</td><td>\n",
      "If you love suprises, this mystery box is for you! Do not place on light-colored surfaces. May cause oil staining. <span class=\"excitingNote\">Keep your friends guessing!</span>\n",
      "</td><td>\n",
      "$1.50\n",
      "</td><td>\n",
      "<img src=\"../img/gifts/img6.jpg\"/>\n",
      "</td></tr>\n",
      "\n",
      "\n"
     ]
    }
   ],
   "source": [
    "for i in bsObj.find('table', {'id':'giftList'}).tr.next_siblings:\n",
    "    print(i)"
   ]
  },
  {
   "cell_type": "code",
   "execution_count": 127,
   "metadata": {},
   "outputs": [
    {
     "data": {
      "text/plain": [
       "'\\n'"
      ]
     },
     "execution_count": 127,
     "metadata": {},
     "output_type": "execute_result"
    }
   ],
   "source": [
    "bsObj.find('tr', {'id':'gift2'}).next_sibling\n"
   ]
  },
  {
   "cell_type": "code",
   "execution_count": null,
   "metadata": {},
   "outputs": [],
   "source": []
  },
  {
   "cell_type": "code",
   "execution_count": null,
   "metadata": {},
   "outputs": [],
   "source": []
  },
  {
   "cell_type": "markdown",
   "metadata": {},
   "source": [
    "### 부모 다루기\n",
    "\n",
    "> .parent와 parens가 필요할 때도 있습니다. "
   ]
  },
  {
   "cell_type": "code",
   "execution_count": 134,
   "metadata": {},
   "outputs": [
    {
     "name": "stdout",
     "output_type": "stream",
     "text": [
      "\n",
      "$15.00\n",
      "\n"
     ]
    }
   ],
   "source": [
    "from urllib.request import urlopen\n",
    "from bs4 import BeautifulSoup\n",
    "\n",
    "html = urlopen('http://www.pythonscraping.com/pages/page3.html')\n",
    "bsObj = BeautifulSoup(html, 'html.parser')\n",
    "print(bsObj.find('img', {'src':'../img/gifts/img1.jpg'}).parent.previous_sibling.get_text())"
   ]
  },
  {
   "cell_type": "code",
   "execution_count": null,
   "metadata": {},
   "outputs": [],
   "source": []
  },
  {
   "cell_type": "code",
   "execution_count": null,
   "metadata": {},
   "outputs": [],
   "source": []
  },
  {
   "cell_type": "code",
   "execution_count": null,
   "metadata": {},
   "outputs": [],
   "source": []
  },
  {
   "cell_type": "code",
   "execution_count": null,
   "metadata": {},
   "outputs": [],
   "source": []
  },
  {
   "cell_type": "code",
   "execution_count": null,
   "metadata": {},
   "outputs": [],
   "source": []
  },
  {
   "cell_type": "code",
   "execution_count": null,
   "metadata": {},
   "outputs": [],
   "source": []
  },
  {
   "cell_type": "code",
   "execution_count": null,
   "metadata": {},
   "outputs": [],
   "source": []
  }
 ],
 "metadata": {
  "kernelspec": {
   "display_name": "Python 3",
   "language": "python",
   "name": "python3"
  },
  "language_info": {
   "codemirror_mode": {
    "name": "ipython",
    "version": 3
   },
   "file_extension": ".py",
   "mimetype": "text/x-python",
   "name": "python",
   "nbconvert_exporter": "python",
   "pygments_lexer": "ipython3",
   "version": "3.8.2"
  }
 },
 "nbformat": 4,
 "nbformat_minor": 4
}
